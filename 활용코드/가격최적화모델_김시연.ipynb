{
  "cells": [
    {
      "cell_type": "code",
      "execution_count": 1,
      "id": "d965a0bd",
      "metadata": {
        "id": "d965a0bd"
      },
      "outputs": [],
      "source": [
        "import pandas as pd\n",
        "import numpy as np\n",
        "import matplotlib.pyplot as plt"
      ]
    },
    {
      "cell_type": "code",
      "execution_count": 2,
      "id": "98fcc55e",
      "metadata": {
        "id": "98fcc55e"
      },
      "outputs": [],
      "source": [
        "# 이동 평균을 계산하는 함수\n",
        "def calculate_moving_average(data, window_size=3):\n",
        "    return data.rolling(window=window_size).mean()"
      ]
    },
    {
      "cell_type": "code",
      "execution_count": 3,
      "id": "61cadc79",
      "metadata": {
        "id": "61cadc79"
      },
      "outputs": [],
      "source": [
        "# 수익 함수의 기울기 계산 함수 (주어진 코드)\n",
        "def revenue_gradient(P: float, C: float, E: float) -> float:\n",
        "    return C * (E + 1) * P**E\n",
        "\n",
        "# 경사 상승법 (Gradient Ascent) 함수 (주어진 코드)\n",
        "def gradient_ascent(C: float, E: float, initial_price: float, learning_rate: float, iterations: int, rewatch_prob: float) -> float:\n",
        "    P = initial_price  # 초기 가격 설정, 정가\n",
        "    for i in range(iterations):\n",
        "        grad = revenue_gradient(P, C, E)  # 기울기 계산\n",
        "        P = P + learning_rate * grad  # 가격 업데이트\n",
        "        if abs(weighted_grad) < 1e-6:  # 가중된 기울기가 매우 작으면 종료\n",
        "            break\n",
        "    return P"
      ]
    },
    {
      "cell_type": "code",
      "execution_count": 4,
      "id": "bfa652e9",
      "metadata": {
        "id": "bfa652e9"
      },
      "outputs": [],
      "source": [
        "# 특정 공연코드에 대해 시간별로 클러스터별 재관람 확률을 반영한 최적의 가격 계산\n",
        "def calculate_optimal_prices(data, C, initial_price, learning_rate, iterations, cluster_rewatch_probs):\n",
        "    optimal_prices = []\n",
        "    for _, row in data.iterrows():\n",
        "        E = - row['예측할인율']  # 예측된 할인율 사용\n",
        "        cluster_id = row['cluster']  # 클러스터 ID 가져오기\n",
        "        rewatch_prob = cluster_rewatch_probs[cluster_id]  # 해당 클러스터의 재관람 확률 가져오기\n",
        "        optimal_price = gradient_ascent(C, E, initial_price, learning_rate, iterations, rewatch_prob)\n",
        "        optimal_prices.append(optimal_price)\n",
        "    return optimal_prices"
      ]
    },
    {
      "cell_type": "code",
      "source": [
        "# 클러스터별 최적 가격을 가중치로 조정하여 최종 가격을 결정하는 함수\n",
        "def calculate_weighted_final_price(data, C, initial_price, learning_rate, iterations, cluster_rewatch_probs):\n",
        "    weighted_prices_sum = 0\n",
        "    total_rewatch_prob = 0\n",
        "\n",
        "    # 각 클러스터별 최적 가격 계산 및 가중치 반영\n",
        "    for cluster_id in data['cluster'].unique():\n",
        "        cluster_data = data[data['cluster'] == cluster_id]\n",
        "        optimal_prices = calculate_optimal_prices(cluster_data, C, initial_price, learning_rate, iterations, cluster_rewatch_probs)\n",
        "\n",
        "        # 가중치로 사용할 재관람 확률\n",
        "        rewatch_prob = cluster_rewatch_probs[cluster_id]\n",
        "\n",
        "        # 가중치를 반영한 가격 계산\n",
        "        weighted_prices_sum += sum(optimal_prices) * rewatch_prob\n",
        "        total_rewatch_prob += rewatch_prob\n",
        "\n",
        "    # 최종 가격은 가중된 가격들의 합을 재관람 확률의 총합으로 나눈 값\n",
        "    final_price = weighted_prices_sum / total_rewatch_prob if total_rewatch_prob > 0 else initial_price\n",
        "\n",
        "    return final_price"
      ],
      "metadata": {
        "id": "GywEgb25xQqZ"
      },
      "id": "GywEgb25xQqZ",
      "execution_count": 5,
      "outputs": []
    },
    {
      "cell_type": "code",
      "source": [
        "# 클러스터별 최적 가격 계산 및 시각화 함수\n",
        "def visualize_and_save_optimal_prices(data, C, initial_price, learning_rate, iterations, cluster_rewatch_probs, output_csv):\n",
        "    all_optimal_prices = []\n",
        "\n",
        "    # 클러스터별로 처리\n",
        "    for cluster_id in data['cluster'].unique():\n",
        "        cluster_data = data[data['cluster'] == cluster_id]\n",
        "\n",
        "        # 최적 가격 계산\n",
        "        optimal_prices = calculate_optimal_prices(cluster_data, C, initial_price, learning_rate, iterations, cluster_rewatch_probs)\n",
        "\n",
        "        # 시각화\n",
        "        plt.plot(cluster_data['공연일시'], optimal_prices, label=f'Cluster {cluster_id}')\n",
        "\n",
        "        # 데이터를 데이터프레임에 저장\n",
        "        cluster_data['최적가격'] = optimal_prices\n",
        "        all_optimal_prices.append(cluster_data[['공연코드', '공연일시', 'cluster', '최적가격']])\n",
        "\n",
        "    # 가중치 적용한 최종 가격 계산\n",
        "    final_price = calculate_weighted_final_price(data, C, initial_price, learning_rate, iterations, cluster_rewatch_probs)\n",
        "    print(f\"Weighted Final Optimal Price: {final_price}\")\n",
        "\n",
        "    # 그래프 설정 및 표시\n",
        "    plt.xlabel('공연일시')\n",
        "    plt.ylabel('최적 가격')\n",
        "    plt.title('클러스터별 시간에 따른 최적 가격')\n",
        "    plt.legend()\n",
        "    plt.xticks(rotation=45)\n",
        "    plt.tight_layout()\n",
        "    plt.show()\n",
        "\n",
        "    # 모든 클러스터 데이터를 하나로 합치고 CSV로 저장\n",
        "    final_df = pd.concat(all_optimal_prices)\n",
        "    final_df['최종최적가격'] = final_price\n",
        "    final_df.to_csv(output_csv, index=False)"
      ],
      "metadata": {
        "id": "Es319_prxefv"
      },
      "id": "Es319_prxefv",
      "execution_count": 6,
      "outputs": []
    },
    {
      "cell_type": "code",
      "source": [
        "# 모든 클러스터에 대해 최적의 가격을 계산하고 엑셀 파일로 저장하는 함수\n",
        "def save_optimal_prices_to_excel(data, initial_price, learning_rate, iterations, cluster_rewatch_probs, file_name):\n",
        "    # 최적 가격 결과를 담을 데이터프레임 생성\n",
        "    result_df = pd.DataFrame()\n",
        "\n",
        "    for cluster_id in data['cluster'].unique():\n",
        "        cluster_data = data[data['cluster'] == cluster_id].copy()\n",
        "        cluster_data['최적가격'] = calculate_optimal_prices(cluster_data, initial_price, learning_rate, iterations, cluster_rewatch_probs)\n",
        "\n",
        "        # 결과 데이터프레임에 추가\n",
        "        result_df = pd.concat([result_df, cluster_data[['공연코드', '공연일시', 'cluster', '최적가격']]])\n",
        "\n",
        "    # 가중치 적용한 최종 가격 계산\n",
        "    final_price = calculate_weighted_final_price(data, initial_price, learning_rate, iterations, cluster_rewatch_probs)\n",
        "\n",
        "    # 최종 가격을 추가하여 엑셀 파일로 저장\n",
        "    result_df['최종최적가격'] = final_price\n",
        "    result_df.to_excel(file_name, index=False)\n",
        "    print(f\"페르소나 별 최적 가격을 {file_name} 파일로 저장했습니다. Weighted Final Price: {final_price}\")"
      ],
      "metadata": {
        "id": "f_FXTc95xjtQ"
      },
      "id": "f_FXTc95xjtQ",
      "execution_count": 7,
      "outputs": []
    }
  ],
  "metadata": {
    "kernelspec": {
      "display_name": "Python 3",
      "name": "python3"
    },
    "language_info": {
      "codemirror_mode": {
        "name": "ipython",
        "version": 3
      },
      "file_extension": ".py",
      "mimetype": "text/x-python",
      "name": "python",
      "nbconvert_exporter": "python",
      "pygments_lexer": "ipython3",
      "version": "3.11.5"
    },
    "colab": {
      "provenance": [],
      "machine_shape": "hm",
      "gpuType": "A100"
    },
    "accelerator": "GPU"
  },
  "nbformat": 4,
  "nbformat_minor": 5
}