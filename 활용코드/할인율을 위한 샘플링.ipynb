{
 "cells": [
  {
   "cell_type": "code",
   "execution_count": 7,
   "id": "53a05424-0201-4de5-8c29-8d3420aef0ec",
   "metadata": {},
   "outputs": [
    {
     "name": "stderr",
     "output_type": "stream",
     "text": [
      "C:\\Users\\Win10\\AppData\\Local\\Temp\\ipykernel_9928\\735806366.py:3: DtypeWarning: Columns (24) have mixed types. Specify dtype option on import or set low_memory=False.\n",
      "  df = pd.read_csv('data_w_기존컬럼.csv')  # 데이터 파일 로드\n"
     ]
    }
   ],
   "source": [
    "import pandas as pd\n",
    "# 데이터 로드\n",
    "df = pd.read_csv('data_w_기존컬럼.csv')  # 데이터 파일 로드"
   ]
  },
  {
   "cell_type": "code",
   "execution_count": null,
   "id": "26e20b2a-8f5c-4bfb-9398-15ef4c5ecc4f",
   "metadata": {},
   "outputs": [],
   "source": [
    "from sklearn.model_selection import train_test_split\n",
    "\n",
    "# 데이터프레임에서 클러스터 비율을 유지하면서 샘플링\n",
    "sampled_data, _ = train_test_split(df, \n",
    "                                  test_size=0.8,  # 20%만 남기고 샘플링\n",
    "                                  stratify=df['cluster'])\n",
    "\n",
    "# CSV 파일로 저장\n",
    "sampled_data.to_csv(\"sampled_data_w_columns.csv\", index=False)"
   ]
  }
 ],
 "metadata": {
  "kernelspec": {
   "display_name": "Python 3 (ipykernel)",
   "language": "python",
   "name": "python3"
  },
  "language_info": {
   "codemirror_mode": {
    "name": "ipython",
    "version": 3
   },
   "file_extension": ".py",
   "mimetype": "text/x-python",
   "name": "python",
   "nbconvert_exporter": "python",
   "pygments_lexer": "ipython3",
   "version": "3.12.4"
  }
 },
 "nbformat": 4,
 "nbformat_minor": 5
}
